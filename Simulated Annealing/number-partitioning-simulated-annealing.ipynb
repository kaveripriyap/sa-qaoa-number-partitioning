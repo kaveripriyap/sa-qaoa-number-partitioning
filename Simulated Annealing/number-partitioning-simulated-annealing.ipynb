{
 "cells": [
  {
   "cell_type": "markdown",
   "metadata": {},
   "source": [
    "### Simulated Annealing in Julia for the Number Partitioning Problem"
   ]
  },
  {
   "cell_type": "markdown",
   "metadata": {},
   "source": [
    "#### Problem set and initialising initial state"
   ]
  },
  {
   "cell_type": "code",
   "execution_count": 58,
   "metadata": {},
   "outputs": [],
   "source": [
    "# Problem set to partition\n",
    "numbers = [4, 2, 7, 1]\n",
    "\n",
    "# Initialising a random state of spins = {-1, 1}\n",
    "state_0 = [Int(rand(Int64(0):Int64(1))) for i = 1:size(numbers,1)]\n",
    "for i in 1:size(numbers,1)\n",
    "    if state_0[i] == 0\n",
    "       state_0[i] -= 1\n",
    "    end\n",
    "end\n",
    "\n",
    "# Number of iterations of SA (terminating control)\n",
    "iterations = 1000;"
   ]
  },
  {
   "cell_type": "markdown",
   "metadata": {},
   "source": [
    "#### Neighbour state function"
   ]
  },
  {
   "cell_type": "code",
   "execution_count": 59,
   "metadata": {},
   "outputs": [
    {
     "data": {
      "text/plain": [
       "neighbour (generic function with 1 method)"
      ]
     },
     "execution_count": 59,
     "metadata": {},
     "output_type": "execute_result"
    }
   ],
   "source": [
    "function neighbour(s::Vector{Int64}) # Moves the current state to a neighbouring state   \n",
    "    s_proposal = s\n",
    "    \n",
    "    # Keeps the first spin value constant to remove double degeneracy of solutions \n",
    "    # From the paper “Ising formulations of many NP problems” [Lucas]\n",
    "    for i in 2:size(s, 1)\n",
    "        random = Int64(rand(Int64(0):Int64(1)))\n",
    "        if s[i] == -1\n",
    "            s_proposal[i] += random\n",
    "            if random == 1\n",
    "                s_proposal[i] += 1       \n",
    "            end                \n",
    "        else\n",
    "            s_proposal[i] -= random\n",
    "            if random == 1\n",
    "                s_proposal[i] -= 1\n",
    "            end                    \n",
    "        end\n",
    "    end\n",
    "    return s_proposal\n",
    "end"
   ]
  },
  {
   "cell_type": "markdown",
   "metadata": {},
   "source": [
    "#### Cost function "
   ]
  },
  {
   "cell_type": "code",
   "execution_count": 62,
   "metadata": {},
   "outputs": [
    {
     "data": {
      "text/plain": [
       "cost (generic function with 1 method)"
      ]
     },
     "execution_count": 62,
     "metadata": {},
     "output_type": "execute_result"
    }
   ],
   "source": [
    "function cost(numbers, state)\n",
    "    cost_root = 0\n",
    "    for i in 1:size(state, 1)\n",
    "        cost_root += numbers[i]*state[i]\n",
    "    end\n",
    "    cost = cost_root^2\n",
    "    return cost\n",
    "end"
   ]
  },
  {
   "cell_type": "markdown",
   "metadata": {},
   "source": [
    "#### Cooling schedules"
   ]
  },
  {
   "cell_type": "code",
   "execution_count": 63,
   "metadata": {},
   "outputs": [
    {
     "data": {
      "text/plain": [
       "constant_temp (generic function with 2 methods)"
      ]
     },
     "execution_count": 63,
     "metadata": {},
     "output_type": "execute_result"
    }
   ],
   "source": [
    "function log_temp(i)\n",
    "    return 1 / log(i)\n",
    "end\n",
    "\n",
    "function constant_temp(i)\n",
    "    return 1\n",
    "end\n"
   ]
  },
  {
   "cell_type": "markdown",
   "metadata": {},
   "source": [
    "#### Simulated annealing function"
   ]
  },
  {
   "cell_type": "code",
   "execution_count": 67,
   "metadata": {},
   "outputs": [
    {
     "data": {
      "text/plain": [
       "simulated_annealing (generic function with 1 method)"
      ]
     },
     "execution_count": 67,
     "metadata": {},
     "output_type": "execute_result"
    }
   ],
   "source": [
    "function simulated_annealing(state_0::Vector{Int64},\n",
    "                             numbers::Vector{Int64},\n",
    "                             iterations::Int64,\n",
    "                             cost::Function,\n",
    "                             neighbour::Function,\n",
    "                             temperature::Function,\n",
    "                             keep_best::Bool,\n",
    "                             trace::Bool)\n",
    "    state = state_0\n",
    "    best_state = state_0\n",
    "    x = copy(numbers)\n",
    "    flag = 0\n",
    "    temp = 10\n",
    "    \n",
    "    for i = 1:iterations\n",
    "        \n",
    "        temp = temperature(i)\n",
    "        state_temp_1 = copy(state)\n",
    "        state_temp_2 = copy(state)\n",
    "        y = cost(x, state_temp_1)\n",
    "        \n",
    "        if  y == 0\n",
    "            best_state = state\n",
    "            flag = 1\n",
    "            if keep_best\n",
    "                println()\n",
    "                println(\"problem : $x\")\n",
    "                println(\"solution: $best_state\")\n",
    "                println(\"cost    : $y\")\n",
    "            break\n",
    "            end\n",
    "        end\n",
    "        \n",
    "        if trace println(\"$i: state = $state\") end\n",
    "        if trace println(\"$i: y = $y\") end\n",
    "        \n",
    "        state_n = neighbour(state_temp_2)\n",
    "        y_n = cost(x, state_n)\n",
    "        \n",
    "        if  y_n == 0\n",
    "            best_state = state_n\n",
    "            flag = 1\n",
    "            if keep_best\n",
    "                println()\n",
    "                println(\"problem : $x\")\n",
    "                println(\"solution: $best_state\")\n",
    "                println(\"cost    : $y_n\")\n",
    "            break\n",
    "            end\n",
    "        end\n",
    "        \n",
    "        if trace println(\"$i: state_n = $state_n\") end\n",
    "        if trace println(\"$i: y_n = $y_n\") end\n",
    "        \n",
    "        if y_n <= y\n",
    "            state = state_n\n",
    "            if trace println(\"accept state\") end\n",
    "        else\n",
    "            probability = exp( - ((y_n - y) / temp))\n",
    "            if trace println(\"$i: probability = $probability\") end\n",
    "            if rand() <= probability\n",
    "                state = state_n\n",
    "                if trace println(\"accept state\") end\n",
    "            else\n",
    "                state = state\n",
    "                if trace println(\"reject state\") end\n",
    "            end\n",
    "        end\n",
    "    \n",
    "        if cost(x, state) < cost(x, best_state)\n",
    "            best_state = state\n",
    "        end\n",
    "    \n",
    "        if trace println() end\n",
    "    end\n",
    "  \n",
    "    if flag == 0\n",
    "        println()\n",
    "        if keep_best\n",
    "            println(\"problem : $x\")\n",
    "            println(\"solution: $best_state\")\n",
    "        else\n",
    "            println(\"problem : $x\")\n",
    "            println(\"solution: $state\")\n",
    "        end\n",
    "    end\n",
    "end"
   ]
  },
  {
   "cell_type": "markdown",
   "metadata": {},
   "source": [
    "#### Solution to the number partitioning problem"
   ]
  },
  {
   "cell_type": "code",
   "execution_count": 68,
   "metadata": {},
   "outputs": [
    {
     "name": "stdout",
     "output_type": "stream",
     "text": [
      "1: state = [-1, 1, -1, -1]\n",
      "1: y = 100\n",
      "1: state_n = [-1, -1, -1, 1]\n",
      "1: y_n = 144\n",
      "1: probability = 1.0\n",
      "accept state\n",
      "\n",
      "2: state = [-1, -1, -1, 1]\n",
      "2: y = 144\n",
      "2: state_n = [-1, -1, -1, 1]\n",
      "2: y_n = 144\n",
      "accept state\n",
      "\n",
      "3: state = [-1, -1, -1, 1]\n",
      "3: y = 144\n",
      "3: state_n = [-1, -1, 1, 1]\n",
      "3: y_n = 4\n",
      "accept state\n",
      "\n",
      "4: state = [-1, -1, 1, 1]\n",
      "4: y = 4\n",
      "4: state_n = [-1, 1, 1, -1]\n",
      "4: y_n = 16\n",
      "4: probability = 5.960464477539072e-8\n",
      "reject state\n",
      "\n",
      "5: state = [-1, -1, 1, 1]\n",
      "5: y = 4\n",
      "5: state_n = [-1, 1, 1, 1]\n",
      "5: y_n = 36\n",
      "5: probability = 4.2949672960000126e-23\n",
      "reject state\n",
      "\n",
      "6: state = [-1, -1, 1, 1]\n",
      "6: y = 4\n",
      "6: state_n = [-1, -1, -1, 1]\n",
      "6: y_n = 144\n",
      "6: probability = 1.145051305641961e-109\n",
      "reject state\n",
      "\n",
      "7: state = [-1, -1, 1, 1]\n",
      "7: y = 4\n",
      "7: state_n = [-1, 1, -1, -1]\n",
      "7: y_n = 100\n",
      "7: probability = 7.423148669824725e-82\n",
      "reject state\n",
      "\n",
      "8: state = [-1, -1, 1, 1]\n",
      "8: y = 4\n",
      "8: state_n = [-1, 1, -1, 1]\n",
      "8: y_n = 64\n",
      "8: probability = 6.525304467998561e-55\n",
      "reject state\n",
      "\n",
      "9: state = [-1, -1, 1, 1]\n",
      "9: y = 4\n",
      "9: state_n = [-1, 1, -1, 1]\n",
      "9: y_n = 64\n",
      "9: probability = 5.564798376768432e-58\n",
      "reject state\n",
      "\n",
      "10: state = [-1, -1, 1, 1]\n",
      "10: y = 4\n",
      "10: state_n = [-1, -1, -1, 1]\n",
      "10: y_n = 144\n",
      "10: probability = 9.999999999999732e-141\n",
      "reject state\n",
      "\n",
      "11: state = [-1, -1, 1, 1]\n",
      "11: y = 4\n",
      "11: state_n = [-1, 1, -1, -1]\n",
      "11: y_n = 100\n",
      "11: probability = 1.0624346465135851e-100\n",
      "reject state\n",
      "\n",
      "12: state = [-1, -1, 1, 1]\n",
      "12: y = 4\n",
      "12: state_n = [-1, 1, 1, -1]\n",
      "12: y_n = 16\n",
      "12: probability = 1.1215665478461523e-13\n",
      "reject state\n",
      "\n",
      "13: state = [-1, -1, 1, 1]\n",
      "13: y = 4\n",
      "13: state_n = [-1, 1, 1, -1]\n",
      "13: y_n = 16\n",
      "13: probability = 4.2921982417991625e-14\n",
      "reject state\n",
      "\n",
      "14: state = [-1, -1, 1, 1]\n",
      "14: y = 4\n",
      "14: state_n = [-1, 1, -1, -1]\n",
      "14: y_n = 100\n",
      "14: probability = 9.369330846829119e-111\n",
      "reject state\n",
      "\n",
      "15: state = [-1, -1, 1, 1]\n",
      "15: y = 4\n",
      "15: state_n = [-1, -1, -1, 1]\n",
      "15: y_n = 144\n",
      "15: probability = 2.22445555147312e-165\n",
      "reject state\n",
      "\n",
      "16: state = [-1, -1, 1, 1]\n",
      "16: y = 4\n",
      "16: state_n = [-1, 1, -1, -1]\n",
      "16: y_n = 100\n",
      "16: probability = 2.537941837315708e-116\n",
      "reject state\n",
      "\n",
      "17: state = [-1, -1, 1, 1]\n",
      "17: y = 4\n",
      "17: state_n = [-1, 1, -1, 1]\n",
      "17: y_n = 64\n",
      "17: probability = 1.489583034514531e-74\n",
      "reject state\n",
      "\n",
      "18: state = [-1, -1, 1, 1]\n",
      "18: y = 4\n",
      "18: state_n = [-1, 1, -1, -1]\n",
      "18: y_n = 100\n",
      "18: probability = 3.1177372372952716e-121\n",
      "reject state\n",
      "\n",
      "19: state = [-1, -1, 1, 1]\n",
      "19: y = 4\n",
      "19: state_n = [-1, -1, -1, -1]\n",
      "19: y_n = 196\n",
      "19: probability = 3.015147878521096e-246\n",
      "reject state\n",
      "\n",
      "20: state = [-1, -1, 1, 1]\n",
      "20: y = 4\n",
      "20: state_n = [-1, -1, -1, -1]\n",
      "20: y_n = 196\n",
      "20: probability = 1.5930919111324496e-250\n",
      "reject state\n",
      "\n",
      "21: state = [-1, -1, 1, 1]\n",
      "21: y = 4\n",
      "21: state_n = [-1, -1, -1, -1]\n",
      "21: y_n = 196\n",
      "21: probability = 1.3611168522027114e-254\n",
      "reject state\n",
      "\n",
      "22: state = [-1, -1, 1, 1]\n",
      "22: y = 4\n",
      "\n",
      "problem : [4, 2, 7, 1]\n",
      "solution: [-1, -1, 1, -1]\n",
      "cost    : 0\n"
     ]
    }
   ],
   "source": [
    "solution = simulated_annealing(state_0,     # initial state of spins = {-1, 1} (length of problem set)\n",
    "                               numbers,     # problem set to be partitioned\n",
    "                               iterations,  # number of iterations of SA (only termination condition)\n",
    "                               cost,        # cost function derived from the Ising \n",
    "                               neighbour,   # function that moves the state to a neighbouring state\n",
    "                               log_temp,    # cooling schedule\n",
    "                               true,        # choice to keep the best state  \n",
    "                               true)        # choice to trace the SA steps"
   ]
  },
  {
   "cell_type": "code",
   "execution_count": null,
   "metadata": {},
   "outputs": [],
   "source": []
  }
 ],
 "metadata": {
  "kernelspec": {
   "display_name": "Julia 1.6.0",
   "language": "julia",
   "name": "julia-1.6"
  },
  "language_info": {
   "file_extension": ".jl",
   "mimetype": "application/julia",
   "name": "julia",
   "version": "1.6.0"
  }
 },
 "nbformat": 4,
 "nbformat_minor": 4
}
