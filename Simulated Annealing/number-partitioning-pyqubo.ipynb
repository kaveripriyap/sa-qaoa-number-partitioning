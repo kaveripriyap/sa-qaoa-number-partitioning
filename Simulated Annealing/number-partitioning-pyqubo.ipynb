{
 "cells": [
  {
   "cell_type": "markdown",
   "metadata": {},
   "source": [
    "### Simulated Annealing in Python for the Number Partitioning Problem"
   ]
  },
  {
   "cell_type": "markdown",
   "metadata": {},
   "source": [
    "#### This code can be used to cross-check the solutions produced on the julia version of SA"
   ]
  },
  {
   "cell_type": "code",
   "execution_count": 1,
   "metadata": {},
   "outputs": [
    {
     "name": "stdout",
     "output_type": "stream",
     "text": [
      "Defaulting to user installation because normal site-packages is not writeable\n",
      "Requirement already satisfied: pyqubo in c:\\users\\kaveri priya putti\\appdata\\roaming\\python\\python38\\site-packages (1.0.10)\n",
      "Requirement already satisfied: dwave-neal>=0.5.7 in c:\\users\\kaveri priya putti\\appdata\\roaming\\python\\python38\\site-packages (from pyqubo) (0.5.7)\n",
      "Requirement already satisfied: Deprecated>=1.2.10 in c:\\users\\kaveri priya putti\\appdata\\roaming\\python\\python38\\site-packages (from pyqubo) (1.2.12)\n",
      "Requirement already satisfied: dimod>=0.9.13 in c:\\users\\kaveri priya putti\\appdata\\roaming\\python\\python38\\site-packages (from pyqubo) (0.9.14)\n",
      "Requirement already satisfied: numpy<1.20,>=1.17.3 in c:\\users\\installations\\anaconda\\lib\\site-packages (from pyqubo) (1.18.5)\n",
      "Requirement already satisfied: six>=1.11.0 in c:\\users\\installations\\anaconda\\lib\\site-packages (from pyqubo) (1.15.0)\n",
      "Requirement already satisfied: wrapt<2,>=1.10 in c:\\users\\installations\\anaconda\\lib\\site-packages (from Deprecated>=1.2.10->pyqubo) (1.11.2)\n",
      "Note: you may need to restart the kernel to use updated packages.\n"
     ]
    }
   ],
   "source": [
    "pip install pyqubo"
   ]
  },
  {
   "cell_type": "code",
   "execution_count": 1,
   "metadata": {},
   "outputs": [],
   "source": [
    "import neal\n",
    "from pyqubo import Spin, Array"
   ]
  },
  {
   "cell_type": "code",
   "execution_count": 9,
   "metadata": {},
   "outputs": [
    {
     "name": "stdout",
     "output_type": "stream",
     "text": [
      "{'s[0]': 1, 's[1]': 1, 's[2]': 0, 's[3]': 1}\n"
     ]
    }
   ],
   "source": [
    "# Problem set to partition\n",
    "numbers = [4, 2, 7, 1]\n",
    "\n",
    "#Creating a state of spins\n",
    "s = Array.create('s', shape=4, vartype='SPIN')\n",
    "\n",
    "# Define Hamiltonian\n",
    "H = sum(n * s for s, n in zip(s, numbers))**2\n",
    "model = H.compile()\n",
    "bqm = model.to_bqm()\n",
    "\n",
    "# Solve Ising model with SimulatedAnnealingSampler()\n",
    "sa = neal.SimulatedAnnealingSampler()\n",
    "sampleset = sa.sample(bqm, seed=1234, beta_range=[0.1, 4.2], num_reads=1, num_sweeps=20, beta_schedule_type='linear')\n",
    "\n",
    "# Decode solution\n",
    "decoded_samples = model.decode_sampleset(sampleset)\n",
    "\n",
    "# Best solution\n",
    "best_sample = min(decoded_samples, key=lambda x: x.energy)\n",
    "print(best_sample.sample)"
   ]
  }
 ],
 "metadata": {
  "kernelspec": {
   "display_name": "Python 3",
   "language": "python",
   "name": "python3"
  },
  "language_info": {
   "codemirror_mode": {
    "name": "ipython",
    "version": 3
   },
   "file_extension": ".py",
   "mimetype": "text/x-python",
   "name": "python",
   "nbconvert_exporter": "python",
   "pygments_lexer": "ipython3",
   "version": "3.8.3"
  }
 },
 "nbformat": 4,
 "nbformat_minor": 4
}
