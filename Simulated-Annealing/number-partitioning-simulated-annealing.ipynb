{
 "cells": [
  {
   "cell_type": "markdown",
   "metadata": {},
   "source": [
    "### Simulated Annealing in Julia for the Number Partitioning Problem"
   ]
  },
  {
   "cell_type": "markdown",
   "metadata": {},
   "source": [
    "#### Problem set and initialising initial state"
   ]
  },
  {
   "cell_type": "code",
   "execution_count": 69,
   "metadata": {},
   "outputs": [],
   "source": [
    "# Problem set to partition\n",
    "numbers = [4, 2, 7, 1]\n",
    "\n",
    "# Initialising a random state of spins = {-1, 1}\n",
    "state_0 = [Int(rand(Int64(0):Int64(1))) for i = 1:size(numbers,1)]\n",
    "for i in 1:size(numbers,1)\n",
    "    if state_0[i] == 0\n",
    "       state_0[i] -= 1\n",
    "    end\n",
    "end\n",
    "\n",
    "# Number of iterations of SA (terminating control)\n",
    "iterations = 1000;"
   ]
  },
  {
   "cell_type": "markdown",
   "metadata": {},
   "source": [
    "#### Neighbour state function"
   ]
  },
  {
   "cell_type": "code",
   "execution_count": 70,
   "metadata": {},
   "outputs": [
    {
     "data": {
      "text/plain": [
       "neighbour (generic function with 1 method)"
      ]
     },
     "execution_count": 70,
     "metadata": {},
     "output_type": "execute_result"
    }
   ],
   "source": [
    "function neighbour(s::Vector{Int64}) # Moves the current state to a neighbouring state   \n",
    "    s_proposal = s\n",
    "    \n",
    "    # Keeps the first spin value constant to remove double degeneracy of solutions \n",
    "    # From the paper “Ising formulations of many NP problems” [Lucas]\n",
    "    for i in 2:size(s, 1)\n",
    "        random = Int64(rand(Int64(0):Int64(1)))\n",
    "        if s[i] == -1\n",
    "            s_proposal[i] += random\n",
    "            if random == 1\n",
    "                s_proposal[i] += 1       \n",
    "            end                \n",
    "        else\n",
    "            s_proposal[i] -= random\n",
    "            if random == 1\n",
    "                s_proposal[i] -= 1\n",
    "            end                    \n",
    "        end\n",
    "    end\n",
    "    return s_proposal\n",
    "end"
   ]
  },
  {
   "cell_type": "markdown",
   "metadata": {},
   "source": [
    "#### Cost function "
   ]
  },
  {
   "cell_type": "code",
   "execution_count": 71,
   "metadata": {},
   "outputs": [
    {
     "data": {
      "text/plain": [
       "cost (generic function with 1 method)"
      ]
     },
     "execution_count": 71,
     "metadata": {},
     "output_type": "execute_result"
    }
   ],
   "source": [
    "# Calculates cost function according to Ising formulation\n",
    "function cost(numbers, state)\n",
    "    cost_root = 0\n",
    "    for i in 1:size(state, 1)\n",
    "        cost_root += numbers[i]*state[i] \n",
    "    end\n",
    "    cost = cost_root^2\n",
    "    return cost\n",
    "end"
   ]
  },
  {
   "cell_type": "markdown",
   "metadata": {},
   "source": [
    "#### Cooling schedules"
   ]
  },
  {
   "cell_type": "code",
   "execution_count": 78,
   "metadata": {},
   "outputs": [
    {
     "data": {
      "text/plain": [
       "quadratic_multiplicative_cooling (generic function with 1 method)"
      ]
     },
     "execution_count": 78,
     "metadata": {},
     "output_type": "execute_result"
    }
   ],
   "source": [
    "# Defines multiple cooling schedule functions \n",
    "\n",
    "function log_temp(i)\n",
    "    return 1 / (1 + log(i + 1))\n",
    "end\n",
    "\n",
    "function constant_temp(i)\n",
    "    return 1\n",
    "end\n",
    "\n",
    "function exp_multiplicative_cooling(i)\n",
    "    alpha = rand(Float64(0.8):Float64(0.9))\n",
    "    return alpha^i\n",
    "end\n",
    "\n",
    "function log_multiplicative_cooling(i)\n",
    "    alpha = rand(Int64(1):Int64(100))\n",
    "    return 1 / (1 + alpha * log(i + 1))\n",
    "end\n",
    "\n",
    "function linear_multiplicative_cooling(i)\n",
    "    alpha = rand(Int64(0):Int64(100))\n",
    "    return 1 / (1 + alpha * i)\n",
    "end\n",
    "\n",
    "function quadratic_multiplicative_cooling(i)\n",
    "    alpha = rand(Int64(0):Int64(100))\n",
    "    return 1 / (1 + alpha * i^2)\n",
    "end"
   ]
  },
  {
   "cell_type": "markdown",
   "metadata": {},
   "source": [
    "#### Simulated annealing function"
   ]
  },
  {
   "cell_type": "code",
   "execution_count": 77,
   "metadata": {},
   "outputs": [
    {
     "data": {
      "text/plain": [
       "simulated_annealing (generic function with 1 method)"
      ]
     },
     "execution_count": 77,
     "metadata": {},
     "output_type": "execute_result"
    }
   ],
   "source": [
    "function simulated_annealing(state_0::Vector{Int64},\n",
    "                             numbers::Vector{Int64},\n",
    "                             iterations::Int64,\n",
    "                             cost::Function,\n",
    "                             neighbour::Function,\n",
    "                             temperature::Function,\n",
    "                             keep_best::Bool,\n",
    "                             trace::Bool)\n",
    "    \n",
    "    state = state_0                 # Initialises state to initial state\n",
    "    best_state = state_0            # Initialises best state to initial state\n",
    "    x = copy(numbers)      \n",
    "    flag = 0\n",
    "    temp = 10                       # Sets initial temperature\n",
    "    \n",
    "    for i = 1:iterations\n",
    "        \n",
    "        temp *= temperature(i)      # Calls the cooling schedule function\n",
    "        \n",
    "        state_temporary_1 = copy(state)\n",
    "        state_temporary_2 = copy(state)\n",
    "        y = cost(x, state_temporary_1)\n",
    "        \n",
    "        # Breaks out of the loop if cost = 0 is reached\n",
    "        if  y == 0\n",
    "            best_state = state\n",
    "            flag = 1\n",
    "            if keep_best\n",
    "                println()\n",
    "                println(\"problem : $x\")\n",
    "                println(\"solution: $best_state\")\n",
    "                println(\"cost    : $y\")\n",
    "            break\n",
    "            end\n",
    "        end\n",
    "        \n",
    "        if trace println(\"$i: state = $state\") end\n",
    "        if trace println(\"$i: y = $y\") end\n",
    "        \n",
    "        # Finds the neighbouring state\n",
    "        state_n = neighbour(state_temporary_2)\n",
    "        y_n = cost(x, state_n)\n",
    "        \n",
    "        # Breaks out of the loop if cost = 0 is reached\n",
    "        if  y_n == 0\n",
    "            best_state = state_n\n",
    "            flag = 1\n",
    "            if keep_best\n",
    "                println()\n",
    "                println(\"problem : $x\")\n",
    "                println(\"solution: $best_state\")\n",
    "                println(\"cost    : $y_n\")\n",
    "            break\n",
    "            end\n",
    "        end\n",
    "        \n",
    "        if trace println(\"$i: state_n = $state_n\") end\n",
    "        if trace println(\"$i: y_n = $y_n\") end\n",
    "        \n",
    "        # Compares the values of cost function of state and neighbouring state\n",
    "        if y_n <= y\n",
    "            state = state_n\n",
    "            if trace println(\"accept state\") end\n",
    "        else\n",
    "            # Calculates probability of worse move\n",
    "            probability = exp( - ((y_n - y) / temp))              \n",
    "            if trace println(\"$i: probability = $probability\") end\n",
    "            \n",
    "            # Checks if probability is less than a random number produced in the range -> (0, 1)\n",
    "            if rand() <= probability\n",
    "                state = state_n\n",
    "                if trace println(\"accept state\") end\n",
    "            else\n",
    "                state = state\n",
    "                if trace println(\"reject state\") end\n",
    "            end\n",
    "        end\n",
    "    \n",
    "        # Compares values of cost function for best state\n",
    "        if cost(x, state) < cost(x, best_state)\n",
    "            best_state = state\n",
    "        end\n",
    "    \n",
    "        if trace println() end\n",
    "    end\n",
    "  \n",
    "    if flag == 0\n",
    "        println()\n",
    "        if keep_best\n",
    "            println(\"problem : $x\")\n",
    "            println(\"solution: $best_state\")\n",
    "        else\n",
    "            println(\"problem : $x\")\n",
    "            println(\"solution: $state\")\n",
    "        end\n",
    "    end\n",
    "end"
   ]
  },
  {
   "cell_type": "markdown",
   "metadata": {},
   "source": [
    "#### Solution to the number partitioning problem"
   ]
  },
  {
   "cell_type": "code",
   "execution_count": 80,
   "metadata": {},
   "outputs": [
    {
     "name": "stdout",
     "output_type": "stream",
     "text": [
      "1: state = [-1, -1, -1, -1]\n",
      "1: y = 196\n",
      "1: state_n = [-1, 1, 1, 1]\n",
      "1: y_n = 36\n",
      "accept state\n",
      "\n",
      "2: state = [-1, 1, 1, 1]\n",
      "2: y = 36\n",
      "2: state_n = [-1, 1, 1, 1]\n",
      "2: y_n = 36\n",
      "accept state\n",
      "\n",
      "3: state = [-1, 1, 1, 1]\n",
      "3: y = 36\n",
      "3: state_n = [-1, 1, -1, 1]\n",
      "3: y_n = 64\n",
      "3: probability = 4.888529073535828e-11\n",
      "reject state\n",
      "\n",
      "4: state = [-1, 1, 1, 1]\n",
      "4: y = 36\n",
      "4: state_n = [-1, 1, -1, -1]\n",
      "4: y_n = 100\n",
      "4: probability = 3.175631896780674e-62\n",
      "reject state\n",
      "\n",
      "5: state = [-1, 1, 1, 1]\n",
      "5: y = 36\n",
      "5: state_n = [-1, -1, -1, -1]\n",
      "5: y_n = 196\n",
      "5: probability = 0.0\n",
      "reject state\n",
      "\n",
      "6: state = [-1, 1, 1, 1]\n",
      "6: y = 36\n",
      "\n",
      "problem : [4, 2, 7, 1]\n",
      "solution: [-1, -1, 1, -1]\n",
      "cost    : 0\n"
     ]
    }
   ],
   "source": [
    "solution = simulated_annealing(state_0,     # initial state of spins = {-1, 1} (length of problem set)\n",
    "                               numbers,     # problem set to be partitioned\n",
    "                               iterations,  # number of iterations of SA (only termination condition)\n",
    "                               cost,        # cost function derived from the Ising \n",
    "                               neighbour,   # function that moves the state to a neighbouring state\n",
    "                               log_temp,    # cooling schedule\n",
    "                               true,        # choice to keep the best state  \n",
    "                               true)        # choice to trace the SA steps"
   ]
  }
 ],
 "metadata": {
  "kernelspec": {
   "display_name": "Julia 1.6.0",
   "language": "julia",
   "name": "julia-1.6"
  },
  "language_info": {
   "file_extension": ".jl",
   "mimetype": "application/julia",
   "name": "julia",
   "version": "1.6.0"
  }
 },
 "nbformat": 4,
 "nbformat_minor": 4
}
